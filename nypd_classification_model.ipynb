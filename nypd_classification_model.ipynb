{
 "cells": [
  {
   "cell_type": "markdown",
   "metadata": {},
   "source": [
    "# NYPD Civilian Complaints\n",
    "## Classification ML Model\n",
    "# Summary of Findings\n",
    "\n",
    "\n",
    "### Introduction\n",
    "The NYPD dataset contains information about 33,358 individual civillian complaints made against the NYPD's MOS (Member of Service) and their case results. This project intends to use the information from this dataset and use them as features in a classification model which will predict whether a case was substantiated or not. The outcome of the case was chosen as the target variable because it can help tell us if there are any particular features that are important in determining how a case is decided. This target variable was created by engineering the (`board_disposition`) variable and inputting True or False depending on whether or not the case was substantiated or not. To measure how well the model works, the evaluation metric used will be the F-1 Score. The F-1 Score is an appropriate metric to use for this project because it measures how well a model is at correctly classifying true positives. In this context, it means that the F-1 score will measure the model based on how well it will positively classify the cases that should be charged as \"charged\".  \n",
    "\n",
    "### Baseline Model\n",
    "For the baseline classification model, a DecisionTreeClassifier was used. There are 12 features being used: `month_received`, `year_received`, `month_closed`, `year_closed`, `rank_now`, `rank_incident`, `complainant_ethnicity`, `mos_ethnicity`, `fado_type`, `complainant_gender`, `complainant_age_incident`, `mos_age_incident`. There are two quantitative features: the complainant's age and member of service's age at the time of the incident. There are six ordinal features: the months and the years the complaint was received and closed (4) and the ranks of the MOS at the time of the incident and now (2). The remaining three columns, which are the ethnicities of the complainant and MOS, and the FADO type, are nominal. After calculating the F-1 score on the model, it resulted in a value around 0.4259. This is not a good score because it demonstrates that the model does not measure positive instances well, which in this context means. the model does not reliably categorize officers who should be charged as \"charged\".\n",
    "\n",
    "We used these 12 features for the baseline and final models because the time of prediction will be once the board closes the case, but there is no board disposition announced yet. This means that we cannot use this model to predict ongoing cases, which can be a shortcoming. If we wanted to predict ongoing cases, we would need to disregard the features for the month and date the case was closed because that is unknown at the time of prediction. We would still be able to use the current rank of the officer, as well as the rest of the features because they would all be available.\n",
    "\n",
    "### Final Model\n",
    "For the final model, the four engineered features that were added are the length of the board's investigation, the ranking change of the accused MOS, the standardization of the MOS's age at the time of the incident based on the FADO type, and the standardization of the complainant's age at the time of the incident based on their ethnicity. The investigation time was included as a new variable because having a longer investigation time could potentially lead to a case being unsubstantiated as a prolonged investigation could be seen as pointless and thus dropped. The ranking change variable could provide information on the outcome because if a ranking change occured, it could possibly mean that they were demoted as a result of punishment for their involvement in a substantiated case. The standardization of MOS and complainant age based on FADO type and ethnicity, respectively, was included because standardizing the ages based on these groups could provide interesting insights on how a case would turn out (i.e. the FADO types that are more \"aggressive\" could show that the age of the MOS involved with those types are younger and is more associated with that specific FADO type or that younger people of a particular ethnicity would be more likely to make a complaint than others). For easier comparison, a DecisionTreeClassifier was used again with the default max_depth (None), min_samples_leaf of 3, and a min_samples_split of 3. The model was selected using the `best_estimator` method on the classifier, which was the estimator that gave the highest F-1 score. The model with the feature engineered variables did not fare better than the baseline model, as the final model had an F-1 score around 0.3584 due to the low precision. The baseline model had a better performance than the model with the engineered variables. We decided that in future iterations of this algorithm, it may be worth using a RandomForestClassifier because the lower variance would yield more generalized results.\n",
    "\n",
    "### Fairness Evaluation\n",
    "We will be evaluating the fairness of our algorithm using the True Positive Parity measure. We want to explore whether the model is more fair for non-black complainants than black complainants. More specifically, since we define fairness to be the TPR, or recall, we will see whether the algorithm correctly charges a higher proportion of guilty officers when the complainant is non-black than when the complainant is black. We have split the dataset into subsets: a black subset and a non-black subset. A permutation test will be used to determine if the algorithm is correctly charging the guilty officers. The hypotheses for the permutation test are below. \n",
    "\n",
    "* Null Hypothesis: The true positive rate for the complaints with black complainants and non-black complainants is roughly the same, indicating that the model is fair.\n",
    "* Alternative Hypothesis: The model poses unjust circumstances for black people by having a lower true positive rate for charging guilty officers than when the complainant is non-black.\n",
    "\n",
    "After the permutation test was run, the p-value calculated was 0.483. This indicates that under the null hypothesis, around 50% of the observed differences in TPR were at least as extreme as the observed difference. Since the p-value is higher than the significance level of 0.05, we fail to reject the null hypothesis and do not have evidence to conclude that the algorithm poses unjust circumstances to black complainants."
   ]
  },
  {
   "cell_type": "markdown",
   "metadata": {},
   "source": [
    "# Code"
   ]
  },
  {
   "cell_type": "code",
   "execution_count": 1,
   "metadata": {},
   "outputs": [],
   "source": [
    "import matplotlib.pyplot as plt\n",
    "import numpy as np\n",
    "import os\n",
    "import pandas as pd\n",
    "import seaborn as sns\n",
    "%matplotlib inline\n",
    "%config InlineBackend.figure_format = 'retina'  # Higher resolution figures\n",
    "\n",
    "# Import transformers\n",
    "from sklearn.preprocessing import FunctionTransformer\n",
    "from sklearn.preprocessing import OneHotEncoder\n",
    "from sklearn.compose import ColumnTransformer\n",
    "from sklearn.impute import SimpleImputer\n",
    "\n",
    "# Import for creating transformer\n",
    "from sklearn.base import BaseEstimator, TransformerMixin\n",
    "\n",
    "# Import pipeline\n",
    "from sklearn.pipeline import Pipeline\n",
    "\n",
    "# Import classifier and parameter selection \n",
    "from sklearn.tree import DecisionTreeClassifier\n",
    "from sklearn.model_selection import GridSearchCV\n",
    "\n",
    "# Import model selection and metrics\n",
    "from sklearn.model_selection import train_test_split\n",
    "from sklearn import metrics"
   ]
  },
  {
   "cell_type": "code",
   "execution_count": 2,
   "metadata": {},
   "outputs": [
    {
     "data": {
      "text/html": [
       "<div>\n",
       "<style scoped>\n",
       "    .dataframe tbody tr th:only-of-type {\n",
       "        vertical-align: middle;\n",
       "    }\n",
       "\n",
       "    .dataframe tbody tr th {\n",
       "        vertical-align: top;\n",
       "    }\n",
       "\n",
       "    .dataframe thead th {\n",
       "        text-align: right;\n",
       "    }\n",
       "</style>\n",
       "<table border=\"1\" class=\"dataframe\">\n",
       "  <thead>\n",
       "    <tr style=\"text-align: right;\">\n",
       "      <th></th>\n",
       "      <th>unique_mos_id</th>\n",
       "      <th>first_name</th>\n",
       "      <th>last_name</th>\n",
       "      <th>command_now</th>\n",
       "      <th>shield_no</th>\n",
       "      <th>complaint_id</th>\n",
       "      <th>month_received</th>\n",
       "      <th>year_received</th>\n",
       "      <th>month_closed</th>\n",
       "      <th>year_closed</th>\n",
       "      <th>...</th>\n",
       "      <th>mos_age_incident</th>\n",
       "      <th>complainant_ethnicity</th>\n",
       "      <th>complainant_gender</th>\n",
       "      <th>complainant_age_incident</th>\n",
       "      <th>fado_type</th>\n",
       "      <th>allegation</th>\n",
       "      <th>precinct</th>\n",
       "      <th>contact_reason</th>\n",
       "      <th>outcome_description</th>\n",
       "      <th>board_disposition</th>\n",
       "    </tr>\n",
       "  </thead>\n",
       "  <tbody>\n",
       "    <tr>\n",
       "      <td>0</td>\n",
       "      <td>10004</td>\n",
       "      <td>Jonathan</td>\n",
       "      <td>Ruiz</td>\n",
       "      <td>078 PCT</td>\n",
       "      <td>8409</td>\n",
       "      <td>42835</td>\n",
       "      <td>7</td>\n",
       "      <td>2019</td>\n",
       "      <td>5</td>\n",
       "      <td>2020</td>\n",
       "      <td>...</td>\n",
       "      <td>32</td>\n",
       "      <td>Black</td>\n",
       "      <td>Female</td>\n",
       "      <td>38.0</td>\n",
       "      <td>Abuse of Authority</td>\n",
       "      <td>Failure to provide RTKA card</td>\n",
       "      <td>78.0</td>\n",
       "      <td>Report-domestic dispute</td>\n",
       "      <td>No arrest made or summons issued</td>\n",
       "      <td>Substantiated (Command Lvl Instructions)</td>\n",
       "    </tr>\n",
       "    <tr>\n",
       "      <td>1</td>\n",
       "      <td>10007</td>\n",
       "      <td>John</td>\n",
       "      <td>Sears</td>\n",
       "      <td>078 PCT</td>\n",
       "      <td>5952</td>\n",
       "      <td>24601</td>\n",
       "      <td>11</td>\n",
       "      <td>2011</td>\n",
       "      <td>8</td>\n",
       "      <td>2012</td>\n",
       "      <td>...</td>\n",
       "      <td>24</td>\n",
       "      <td>Black</td>\n",
       "      <td>Male</td>\n",
       "      <td>26.0</td>\n",
       "      <td>Discourtesy</td>\n",
       "      <td>Action</td>\n",
       "      <td>67.0</td>\n",
       "      <td>Moving violation</td>\n",
       "      <td>Moving violation summons issued</td>\n",
       "      <td>Substantiated (Charges)</td>\n",
       "    </tr>\n",
       "    <tr>\n",
       "      <td>2</td>\n",
       "      <td>10007</td>\n",
       "      <td>John</td>\n",
       "      <td>Sears</td>\n",
       "      <td>078 PCT</td>\n",
       "      <td>5952</td>\n",
       "      <td>24601</td>\n",
       "      <td>11</td>\n",
       "      <td>2011</td>\n",
       "      <td>8</td>\n",
       "      <td>2012</td>\n",
       "      <td>...</td>\n",
       "      <td>24</td>\n",
       "      <td>Black</td>\n",
       "      <td>Male</td>\n",
       "      <td>26.0</td>\n",
       "      <td>Offensive Language</td>\n",
       "      <td>Race</td>\n",
       "      <td>67.0</td>\n",
       "      <td>Moving violation</td>\n",
       "      <td>Moving violation summons issued</td>\n",
       "      <td>Substantiated (Charges)</td>\n",
       "    </tr>\n",
       "  </tbody>\n",
       "</table>\n",
       "<p>3 rows × 27 columns</p>\n",
       "</div>"
      ],
      "text/plain": [
       "   unique_mos_id first_name last_name command_now  shield_no  complaint_id  \\\n",
       "0          10004   Jonathan      Ruiz     078 PCT       8409         42835   \n",
       "1          10007       John     Sears     078 PCT       5952         24601   \n",
       "2          10007       John     Sears     078 PCT       5952         24601   \n",
       "\n",
       "   month_received  year_received  month_closed  year_closed  ...  \\\n",
       "0               7           2019             5         2020  ...   \n",
       "1              11           2011             8         2012  ...   \n",
       "2              11           2011             8         2012  ...   \n",
       "\n",
       "  mos_age_incident complainant_ethnicity complainant_gender  \\\n",
       "0               32                 Black             Female   \n",
       "1               24                 Black               Male   \n",
       "2               24                 Black               Male   \n",
       "\n",
       "  complainant_age_incident           fado_type                    allegation  \\\n",
       "0                     38.0  Abuse of Authority  Failure to provide RTKA card   \n",
       "1                     26.0         Discourtesy                        Action   \n",
       "2                     26.0  Offensive Language                          Race   \n",
       "\n",
       "  precinct           contact_reason               outcome_description  \\\n",
       "0     78.0  Report-domestic dispute  No arrest made or summons issued   \n",
       "1     67.0         Moving violation   Moving violation summons issued   \n",
       "2     67.0         Moving violation   Moving violation summons issued   \n",
       "\n",
       "                          board_disposition  \n",
       "0  Substantiated (Command Lvl Instructions)  \n",
       "1                   Substantiated (Charges)  \n",
       "2                   Substantiated (Charges)  \n",
       "\n",
       "[3 rows x 27 columns]"
      ]
     },
     "execution_count": 2,
     "metadata": {},
     "output_type": "execute_result"
    }
   ],
   "source": [
    "complaints = pd.read_csv('data/allegations_202007271729.csv')\n",
    "complaints.head(3)"
   ]
  },
  {
   "cell_type": "markdown",
   "metadata": {},
   "source": [
    "From the NYPD civilian complaints dataset, we are attempting to predict the result of a civilian claim. We aim to predict whether or not the Allegation resulted in a charge on the police officer after the Board investigation. This problem is a binary classification problem, where the target variable is an engineered Board Disposition (`board_disposition`) variable. In order to make this a binary problem, we will be grouping \"Exonerated\" and \"Unsubstantiated\" results into the \"Officer Not Charged\", or class with value 0. All the \"Substantiated\" claims will be classified as \"Officer Charged\", or class with value 1.\n",
    "\n",
    "We will be using the F1-score as the evaluation metric. This is due to the fact that accuracy treats the incorrect guesses equally. Treating False Positives (predicting the officer is charged when the officer should not be charged) and False Negatives (predicting the officer is not charged when the officer should be charged) can have detrimental impacts. We want to weigh more importance to the False Negatives because having a person in abuse of their power still work their job puts more civilians at risk. The F1-score, which is the harmonic mean of precision and recall. Precision, in this context, measures how many officers we correctly predicted as charged as a fraction of the total number of officers we predicted as charged. Recall, in this context, measures how many officers we correctly predicted as charged as a fraction of the total number of officers who should have been charged. We want to maximize both precision and recall, so F1-score is the most useful evaluation metric."
   ]
  },
  {
   "cell_type": "markdown",
   "metadata": {},
   "source": [
    "#### Preliminary Data Cleaning"
   ]
  },
  {
   "cell_type": "code",
   "execution_count": 3,
   "metadata": {},
   "outputs": [],
   "source": [
    "# Creates a new column for the full name of the MOS because the individual first and last names are not meaningful for our analysis.\n",
    "complaints = complaints.assign(mos_name = (complaints['first_name'] + ' ' + complaints['last_name'])).drop(columns = ['first_name', 'last_name'])"
   ]
  },
  {
   "cell_type": "markdown",
   "metadata": {},
   "source": [
    "### Baseline Model"
   ]
  },
  {
   "cell_type": "markdown",
   "metadata": {},
   "source": [
    "In the baseline model, we will be predicting the Board Disposition using 12 features: `month_received`, `year_received`, `month_closed`, `year_closed`, `rank_now`, `rank_incident`, `complainant_ethnicity`, `mos_ethnicity`, `fado_type`, `complainant_gender`, `complainant_age_incident`, `mos_age_incident`. \n",
    "There are two quantitative features: the complainant's age and member of service's age at the time of the incident. There are six ordinal features: the months and the years the complaint was received and closed (4) and the ranks of the MOS at the time of the incident and now (2). The remaining three columns, which are the ethnicities of the complainant and MOS, and the FADO type, are nominal."
   ]
  },
  {
   "cell_type": "code",
   "execution_count": 4,
   "metadata": {},
   "outputs": [
    {
     "data": {
      "text/html": [
       "<div>\n",
       "<style scoped>\n",
       "    .dataframe tbody tr th:only-of-type {\n",
       "        vertical-align: middle;\n",
       "    }\n",
       "\n",
       "    .dataframe tbody tr th {\n",
       "        vertical-align: top;\n",
       "    }\n",
       "\n",
       "    .dataframe thead th {\n",
       "        text-align: right;\n",
       "    }\n",
       "</style>\n",
       "<table border=\"1\" class=\"dataframe\">\n",
       "  <thead>\n",
       "    <tr style=\"text-align: right;\">\n",
       "      <th></th>\n",
       "      <th>unique_mos_id</th>\n",
       "      <th>command_now</th>\n",
       "      <th>shield_no</th>\n",
       "      <th>complaint_id</th>\n",
       "      <th>month_received</th>\n",
       "      <th>year_received</th>\n",
       "      <th>month_closed</th>\n",
       "      <th>year_closed</th>\n",
       "      <th>command_at_incident</th>\n",
       "      <th>rank_abbrev_incident</th>\n",
       "      <th>...</th>\n",
       "      <th>complainant_gender</th>\n",
       "      <th>complainant_age_incident</th>\n",
       "      <th>fado_type</th>\n",
       "      <th>allegation</th>\n",
       "      <th>precinct</th>\n",
       "      <th>contact_reason</th>\n",
       "      <th>outcome_description</th>\n",
       "      <th>board_disposition</th>\n",
       "      <th>mos_name</th>\n",
       "      <th>is_charged</th>\n",
       "    </tr>\n",
       "  </thead>\n",
       "  <tbody>\n",
       "    <tr>\n",
       "      <td>0</td>\n",
       "      <td>10004</td>\n",
       "      <td>078 PCT</td>\n",
       "      <td>8409</td>\n",
       "      <td>42835</td>\n",
       "      <td>7</td>\n",
       "      <td>2019</td>\n",
       "      <td>5</td>\n",
       "      <td>2020</td>\n",
       "      <td>078 PCT</td>\n",
       "      <td>POM</td>\n",
       "      <td>...</td>\n",
       "      <td>Female</td>\n",
       "      <td>38.0</td>\n",
       "      <td>Abuse of Authority</td>\n",
       "      <td>Failure to provide RTKA card</td>\n",
       "      <td>78.0</td>\n",
       "      <td>Report-domestic dispute</td>\n",
       "      <td>No arrest made or summons issued</td>\n",
       "      <td>Substantiated (Command Lvl Instructions)</td>\n",
       "      <td>Jonathan Ruiz</td>\n",
       "      <td>True</td>\n",
       "    </tr>\n",
       "    <tr>\n",
       "      <td>1</td>\n",
       "      <td>10007</td>\n",
       "      <td>078 PCT</td>\n",
       "      <td>5952</td>\n",
       "      <td>24601</td>\n",
       "      <td>11</td>\n",
       "      <td>2011</td>\n",
       "      <td>8</td>\n",
       "      <td>2012</td>\n",
       "      <td>PBBS</td>\n",
       "      <td>POM</td>\n",
       "      <td>...</td>\n",
       "      <td>Male</td>\n",
       "      <td>26.0</td>\n",
       "      <td>Discourtesy</td>\n",
       "      <td>Action</td>\n",
       "      <td>67.0</td>\n",
       "      <td>Moving violation</td>\n",
       "      <td>Moving violation summons issued</td>\n",
       "      <td>Substantiated (Charges)</td>\n",
       "      <td>John Sears</td>\n",
       "      <td>True</td>\n",
       "    </tr>\n",
       "    <tr>\n",
       "      <td>2</td>\n",
       "      <td>10007</td>\n",
       "      <td>078 PCT</td>\n",
       "      <td>5952</td>\n",
       "      <td>24601</td>\n",
       "      <td>11</td>\n",
       "      <td>2011</td>\n",
       "      <td>8</td>\n",
       "      <td>2012</td>\n",
       "      <td>PBBS</td>\n",
       "      <td>POM</td>\n",
       "      <td>...</td>\n",
       "      <td>Male</td>\n",
       "      <td>26.0</td>\n",
       "      <td>Offensive Language</td>\n",
       "      <td>Race</td>\n",
       "      <td>67.0</td>\n",
       "      <td>Moving violation</td>\n",
       "      <td>Moving violation summons issued</td>\n",
       "      <td>Substantiated (Charges)</td>\n",
       "      <td>John Sears</td>\n",
       "      <td>True</td>\n",
       "    </tr>\n",
       "  </tbody>\n",
       "</table>\n",
       "<p>3 rows × 27 columns</p>\n",
       "</div>"
      ],
      "text/plain": [
       "   unique_mos_id command_now  shield_no  complaint_id  month_received  \\\n",
       "0          10004     078 PCT       8409         42835               7   \n",
       "1          10007     078 PCT       5952         24601              11   \n",
       "2          10007     078 PCT       5952         24601              11   \n",
       "\n",
       "   year_received  month_closed  year_closed command_at_incident  \\\n",
       "0           2019             5         2020             078 PCT   \n",
       "1           2011             8         2012                PBBS   \n",
       "2           2011             8         2012                PBBS   \n",
       "\n",
       "  rank_abbrev_incident  ... complainant_gender complainant_age_incident  \\\n",
       "0                  POM  ...             Female                     38.0   \n",
       "1                  POM  ...               Male                     26.0   \n",
       "2                  POM  ...               Male                     26.0   \n",
       "\n",
       "            fado_type                    allegation precinct  \\\n",
       "0  Abuse of Authority  Failure to provide RTKA card     78.0   \n",
       "1         Discourtesy                        Action     67.0   \n",
       "2  Offensive Language                          Race     67.0   \n",
       "\n",
       "            contact_reason               outcome_description  \\\n",
       "0  Report-domestic dispute  No arrest made or summons issued   \n",
       "1         Moving violation   Moving violation summons issued   \n",
       "2         Moving violation   Moving violation summons issued   \n",
       "\n",
       "                          board_disposition       mos_name is_charged  \n",
       "0  Substantiated (Command Lvl Instructions)  Jonathan Ruiz       True  \n",
       "1                   Substantiated (Charges)     John Sears       True  \n",
       "2                   Substantiated (Charges)     John Sears       True  \n",
       "\n",
       "[3 rows x 27 columns]"
      ]
     },
     "execution_count": 4,
     "metadata": {},
     "output_type": "execute_result"
    }
   ],
   "source": [
    "# Feature engineering the output column to a boolean array to allow binary classification \n",
    "complaints['is_charged'] = complaints['board_disposition'].str.contains('Substantiated')\n",
    "complaints.head(3)"
   ]
  },
  {
   "cell_type": "code",
   "execution_count": 5,
   "metadata": {},
   "outputs": [],
   "source": [
    "def _turn_ages_nan(df):\n",
    "    # Input will be a DataFrame from the pipeline. Converts the dataframe to an array and flattens to 1D\n",
    "    # Turns ages to NaN if there are less than or equal to 10\n",
    "    with_nans_series = pd.Series(np.array(df).flatten()).apply(lambda y: np.NaN if y <= 10 else y)\n",
    "    \n",
    "    # Casts the series to an array of type float\n",
    "    with_nans_arr = np.array(with_nans_series).astype(float)\n",
    "    \n",
    "    # Reshapes the array to a 2D array because pipeline output must be 2D array\n",
    "    return np.reshape(with_nans_arr, (df.shape[0], 1))\n",
    "\n",
    "# Pipeline to clean the ages (turning dubious ages into NaN) and subsequently filling NaNs with the median\n",
    "age_impute_pipe = Pipeline([\n",
    "    ('func', FunctionTransformer(_turn_ages_nan)),\n",
    "    ('imp', SimpleImputer(strategy = 'median'))\n",
    "])"
   ]
  },
  {
   "cell_type": "code",
   "execution_count": 6,
   "metadata": {},
   "outputs": [],
   "source": [
    "def _make_genders_unknown(df):\n",
    "    # Input will be a DataFrame from the pipeline. Converts the dataframe to an array and flattens to 1D\n",
    "    # Makes one column called Unknown, which is what NaNs will become\n",
    "    with_unknown_ser = pd.Series(np.array(df).flatten()).str.replace('Not described', repl = 'Unknown')\n",
    "    \n",
    "    # Casts the series to an array of type float\n",
    "    with_unknown_arr = np.array(with_unknown_ser)\n",
    "    \n",
    "    # Reshapes the array to a 2D array because pipeline output must be 2D array\n",
    "    return np.reshape(with_unknown_arr, (df.shape[0], 1))\n",
    "\n",
    "# Pipeline to clean the genders (turning NaNs into Unknown and turning 'Not Described' into 'Unknown')\n",
    "# Subsequently one-hot encoding the genders\n",
    "gender_impute_pipe = Pipeline([\n",
    "    ('imp', SimpleImputer(strategy = 'constant', fill_value = 'Unknown')),\n",
    "    ('func', FunctionTransformer(_make_genders_unknown)),\n",
    "    ('oh', OneHotEncoder(handle_unknown = 'ignore'))\n",
    "])"
   ]
  },
  {
   "cell_type": "code",
   "execution_count": 7,
   "metadata": {},
   "outputs": [],
   "source": [
    "# Pipeline to fill NaN ethnicities with the 'Unknown' tag and subsequently one-hot encode\n",
    "eth_impute_pipe = Pipeline([\n",
    "    ('imp', SimpleImputer(strategy = 'constant', fill_value = 'Unknown')),\n",
    "    ('oh', OneHotEncoder(handle_unknown = 'ignore'))\n",
    "])"
   ]
  },
  {
   "cell_type": "code",
   "execution_count": 8,
   "metadata": {},
   "outputs": [],
   "source": [
    "# One-hot encoding pipeline for the rest of the categorical variables\n",
    "one_hot_pipe = Pipeline([\n",
    "    ('oh', OneHotEncoder(handle_unknown = 'ignore'))\n",
    "])"
   ]
  },
  {
   "cell_type": "code",
   "execution_count": 9,
   "metadata": {},
   "outputs": [],
   "source": [
    "# ColumnTransformer to transform genders, ethnicities, ages, one-hot encode the rest of the categorical variables, and pass through the other features\n",
    "column_trans_pipeline = ColumnTransformer(transformers= [\n",
    "    ('gen', gender_impute_pipe, ['complainant_gender']),\n",
    "    ('eth', eth_impute_pipe, ['complainant_ethnicity']),\n",
    "    ('age', age_impute_pipe, ['complainant_age_incident']),\n",
    "    ('oh', one_hot_pipe, ['rank_now', 'rank_incident', 'mos_ethnicity', 'fado_type'])], remainder = 'passthrough')"
   ]
  },
  {
   "cell_type": "code",
   "execution_count": 10,
   "metadata": {},
   "outputs": [],
   "source": [
    "# Full pipeline with the transforms for the columns and the classifier\n",
    "pipe = Pipeline(\n",
    "    steps=[('feature_eng', column_trans_pipeline),\n",
    "           ('classifier', DecisionTreeClassifier())])"
   ]
  },
  {
   "cell_type": "code",
   "execution_count": 11,
   "metadata": {},
   "outputs": [],
   "source": [
    "# List of features to be used in the algorithm\n",
    "feature_cols = ['month_received', 'year_received', 'month_closed', 'year_closed', \\\n",
    "'rank_now', 'rank_incident', 'complainant_ethnicity', \\\n",
    "'mos_ethnicity', 'fado_type', 'complainant_gender', \\\n",
    "'complainant_age_incident', 'mos_age_incident']\n",
    "\n",
    "X = complaints[feature_cols]  # DataFrame\n",
    "y = complaints['is_charged'] # Series\n",
    "\n",
    "# Create 70/30 split for training sets (_tr) and test sets (_ts)\n",
    "X_tr, X_ts, y_tr, y_ts = train_test_split(X,y, test_size=0.30)"
   ]
  },
  {
   "cell_type": "code",
   "execution_count": 12,
   "metadata": {},
   "outputs": [
    {
     "data": {
      "text/plain": [
       "Pipeline(steps=[('feature_eng',\n",
       "                 ColumnTransformer(remainder='passthrough',\n",
       "                                   transformers=[('gen',\n",
       "                                                  Pipeline(steps=[('imp',\n",
       "                                                                   SimpleImputer(fill_value='Unknown',\n",
       "                                                                                 strategy='constant')),\n",
       "                                                                  ('func',\n",
       "                                                                   FunctionTransformer(func=<function _make_genders_unknown at 0x7f88c6d9e050>)),\n",
       "                                                                  ('oh',\n",
       "                                                                   OneHotEncoder(handle_unknown='ignore'))]),\n",
       "                                                  ['complainant_gender']),\n",
       "                                                 ('eth',\n",
       "                                                  Pipeline(steps...\n",
       "                                                  ['complainant_ethnicity']),\n",
       "                                                 ('age',\n",
       "                                                  Pipeline(steps=[('func',\n",
       "                                                                   FunctionTransformer(func=<function _turn_ages_nan at 0x7f88c69f8950>)),\n",
       "                                                                  ('imp',\n",
       "                                                                   SimpleImputer(strategy='median'))]),\n",
       "                                                  ['complainant_age_incident']),\n",
       "                                                 ('oh',\n",
       "                                                  Pipeline(steps=[('oh',\n",
       "                                                                   OneHotEncoder(handle_unknown='ignore'))]),\n",
       "                                                  ['rank_now', 'rank_incident',\n",
       "                                                   'mos_ethnicity',\n",
       "                                                   'fado_type'])])),\n",
       "                ('classifier', DecisionTreeClassifier())])"
      ]
     },
     "execution_count": 12,
     "metadata": {},
     "output_type": "execute_result"
    }
   ],
   "source": [
    "# Fit the full pipeline to the training sets\n",
    "pipe.fit(X_tr, y_tr)"
   ]
  },
  {
   "cell_type": "code",
   "execution_count": 13,
   "metadata": {},
   "outputs": [
    {
     "data": {
      "text/plain": [
       "array([False,  True, False, ..., False, False, False])"
      ]
     },
     "execution_count": 13,
     "metadata": {},
     "output_type": "execute_result"
    }
   ],
   "source": [
    "# Form predictions on the test set and stores it in preds\n",
    "preds = pipe.predict(X_ts)\n",
    "preds"
   ]
  },
  {
   "cell_type": "code",
   "execution_count": 14,
   "metadata": {},
   "outputs": [
    {
     "data": {
      "text/plain": [
       "0.4197480698902885"
      ]
     },
     "execution_count": 14,
     "metadata": {},
     "output_type": "execute_result"
    }
   ],
   "source": [
    "# Calculate recall (TPR): ratio of correctly identified positives over the total actual positives\n",
    "metrics.recall_score(y_ts, preds) "
   ]
  },
  {
   "cell_type": "code",
   "execution_count": 15,
   "metadata": {},
   "outputs": [
    {
     "data": {
      "text/plain": [
       "0.4322175732217573"
      ]
     },
     "execution_count": 15,
     "metadata": {},
     "output_type": "execute_result"
    }
   ],
   "source": [
    "# Calculate precision (PPV): ratio of correctly identified positives over the total predicted positives\n",
    "metrics.precision_score(y_ts, preds)"
   ]
  },
  {
   "cell_type": "code",
   "execution_count": 16,
   "metadata": {},
   "outputs": [
    {
     "data": {
      "text/plain": [
       "0.42589156874871165"
      ]
     },
     "execution_count": 16,
     "metadata": {},
     "output_type": "execute_result"
    }
   ],
   "source": [
    "# Calculates F1 score: harmonic mean of recall and precision\n",
    "metrics.f1_score(y_ts, preds)"
   ]
  },
  {
   "cell_type": "markdown",
   "metadata": {},
   "source": [
    "The baseline performance, measured by the F1-score, was around 0.4259. This is not a good score because it demonstrates that the model does not measure positive instances well. In this context, this means that the model does not reliably categorize officers who should be charged as \"charged\". This has major implications, as previously mentioned, because it can lead to complacency and a lack of accountability as there will be officers who abused their power still in the workforce."
   ]
  },
  {
   "cell_type": "markdown",
   "metadata": {},
   "source": [
    "### Final Model"
   ]
  },
  {
   "cell_type": "markdown",
   "metadata": {},
   "source": [
    "In the improved model, we engineered 4 new features: the length of the board's investigation, the ranking change of the accused MOS, the standardization of the MOS's age at the time of the incident based on the FADO type, and the standardization of the complainant's age at the time of the incident based on their ethnicity. For the sake of control, the 12 feature columns will remain the same in the final model and baseline model, but we will be feature engineering variables with the goal of reducing multicollinearity and possibly increase the performance of the model by identifying previously unseen trends in the data."
   ]
  },
  {
   "cell_type": "code",
   "execution_count": 17,
   "metadata": {},
   "outputs": [],
   "source": [
    "# Adds the StdScalerByGroup transformer class from Lab 9\n",
    "class StdScalerByGroup(BaseEstimator, TransformerMixin):\n",
    "    \n",
    "    def __init__(self):\n",
    "        pass\n",
    "\n",
    "    def fit(self, X, y=None):\n",
    "        \"\"\"\n",
    "        :Example:\n",
    "        >>> cols = {'g': ['A', 'A', 'B', 'B'], 'c1': [1, 2, 2, 2], 'c2': [3, 1, 2, 0]}\n",
    "        >>> X = pd.DataFrame(cols)\n",
    "        >>> std = StdScalerByGroup().fit(X)\n",
    "        >>> std.grps_ is not None\n",
    "        True\n",
    "        \"\"\"\n",
    "        # X may not be a pandas dataframe (e.g. a np.array)\n",
    "        df = pd.DataFrame(X)\n",
    "\n",
    "        # Finds the name of the group column and numerical column\n",
    "        group_col = df.columns[0]\n",
    "        numerical_col = df.columns[1]\n",
    "        \n",
    "        # Casts the numerical column values to a float explicitly because DataFrame turns it into object type\n",
    "        df[numerical_col] = df[numerical_col].astype(float)\n",
    "\n",
    "        # Calculates the mean and std by group\n",
    "        means = df.groupby(group_col).mean()\n",
    "        stds = df.groupby(group_col).std()\n",
    "\n",
    "        # Creates DataFrame with means and stds for each column, for each group\n",
    "        aggregates = pd.merge(left = means, right = stds, left_index = True, right_index = True, suffixes = ['_mean', '_std'])\n",
    "\n",
    "        # A dictionary of means/standard-deviations for each column, for each group.\n",
    "        self.grps_ = aggregates\n",
    "\n",
    "        return self\n",
    "\n",
    "    def transform(self, X, y=None):\n",
    "        \"\"\"\n",
    "        :Example:\n",
    "        >>> cols = {'g': ['A', 'A', 'B', 'B'], 'c1': [1, 2, 3, 4], 'c2': [1, 2, 3, 4]}\n",
    "        >>> X = pd.DataFrame(cols)\n",
    "        >>> std = StdScalerByGroup().fit(X)\n",
    "        >>> out = std.transform(X)\n",
    "        >>> out.shape == (4, 2)\n",
    "        True\n",
    "        >>> np.isclose(out.abs(), 0.707107, atol=0.001).all().all()\n",
    "        True\n",
    "        \"\"\"\n",
    "        # Catches unfit transformers and gets the groups if fitted\n",
    "        try:\n",
    "            getattr(self, \"grps_\")\n",
    "        except AttributeError:\n",
    "            raise RuntimeError(\"You must fit the transformer before tranforming the data!\")\n",
    "\n",
    "        # Helper function to standardize a specific column\n",
    "        def _standardize_col(col_name):\n",
    "            # For the input column, makes two names for columns\n",
    "            mean_col = str(col_name) + '_mean'\n",
    "            std_col = str(col_name) + '_std'\n",
    "\n",
    "            # Standardizes the groups based on the categorical column\n",
    "            standardized = df.groupby(group_col)[col_name].transform(lambda x: (x - self.grps_.loc[x.name, mean_col])/self.grps_.loc[x.name, std_col])\n",
    "            return standardized\n",
    "\n",
    "        # X may not be a dataframe (e.g. np.array)\n",
    "        df = pd.DataFrame(X)\n",
    "        output_df = pd.DataFrame()\n",
    "\n",
    "        # Finds the name of the group column\n",
    "        group_col = df.columns[0]\n",
    "\n",
    "        # Standardizes all of the numerical columns and makes an output DataFrame with the standardized columns by group\n",
    "        numerical_cols = list(df.columns[1:])\n",
    "\n",
    "        for col in numerical_cols:\n",
    "            output_df[str(col) + '_z'] = _standardize_col(col)\n",
    "        \n",
    "        return output_df"
   ]
  },
  {
   "cell_type": "code",
   "execution_count": 18,
   "metadata": {},
   "outputs": [],
   "source": [
    "# Only imputes the NaN ethnicities with 'Unknown'. Does NOT one-hot encode because this will be used in StdScalerByGroup\n",
    "eth_impute_only = Pipeline([\n",
    "    ('imp', SimpleImputer(strategy = 'constant', fill_value = 'Unknown'))\n",
    "])"
   ]
  },
  {
   "cell_type": "code",
   "execution_count": 19,
   "metadata": {},
   "outputs": [],
   "source": [
    "# Cleans the ethnicities and ages. Age pipeline is the same from baseline model\n",
    "cleaning_pipe = ColumnTransformer([\n",
    "    ('eth', eth_impute_only, ['complainant_ethnicity']),\n",
    "    ('age', age_impute_pipe, ['complainant_age_incident']),\n",
    "])"
   ]
  },
  {
   "cell_type": "code",
   "execution_count": 20,
   "metadata": {},
   "outputs": [],
   "source": [
    "# Pipeline for cleaning the ethnicity and ages, and then scales the ages by ethnicity of the complainant\n",
    "scale_cleaned = Pipeline([\n",
    "    ('clean', cleaning_pipe),\n",
    "    ('std', StdScalerByGroup())\n",
    "])"
   ]
  },
  {
   "cell_type": "code",
   "execution_count": 21,
   "metadata": {},
   "outputs": [],
   "source": [
    "# Function for getting the time that an investigation was conducted for\n",
    "def _get_investigation_time(arr):\n",
    "    # Extracts the columns from the input array. Input will be array because validate = True for dates transformer\n",
    "    month_received = arr[:,0].astype(str)\n",
    "    year_received = arr[:,1].astype(str)\n",
    "    month_closed = arr[:,2].astype(str)\n",
    "    year_closed = arr[:,3].astype(str)\n",
    "    \n",
    "    # Series of dashes which will be used to concatenate the months and years\n",
    "    dashes = np.repeat('-', len(month_received))\n",
    "    \n",
    "    # Forms the dates from the months and years\n",
    "    date_received = pd.to_datetime(list(map(''.join,zip(month_received, dashes, year_received))))\n",
    "    date_closed = pd.to_datetime(list(map(''.join,zip(month_closed, dashes, year_closed))))\n",
    "    \n",
    "    # Finds durations and casts the TimeDelta to float\n",
    "    durations = np.array(date_closed - date_received).astype(float)\n",
    "    \n",
    "    # Reshapes the durations array to a 2D array\n",
    "    return np.reshape(durations, (durations.shape[0], 1))"
   ]
  },
  {
   "cell_type": "code",
   "execution_count": 22,
   "metadata": {},
   "outputs": [],
   "source": [
    "# Function for checking whether the rank of the officer changed from the incident to now\n",
    "def _check_rank(df):\n",
    "    # Extracts the rank columns. Order does not matter because we will check for equality\n",
    "    rank1 = df.iloc[:,0]\n",
    "    rank2 = df.iloc[:,1]\n",
    "    \n",
    "    # Checks whether the rank remained constant\n",
    "    equality = np.array(rank1 == rank2)\n",
    "    \n",
    "    # Reshapes the durations array to a 2D array\n",
    "    return np.reshape(equality, (equality.shape[0], 1))"
   ]
  },
  {
   "cell_type": "code",
   "execution_count": 23,
   "metadata": {},
   "outputs": [],
   "source": [
    "# Pipeline with all the feature engineering. Feature columns are the same as baseline but there are 4 engineered features\n",
    "feature_eng_pipeline = ColumnTransformer([\n",
    "    ('dates', FunctionTransformer(_get_investigation_time, validate = True), ['month_received', 'year_received', 'month_closed', 'year_closed']),\n",
    "    ('std_comp', scale_cleaned, ['complainant_ethnicity', 'complainant_age_incident']),\n",
    "    ('gen', gender_impute_pipe, ['complainant_gender']),\n",
    "    ('rank', FunctionTransformer(_check_rank), ['rank_now', 'rank_incident']),\n",
    "    ('oh', OneHotEncoder(handle_unknown = 'ignore'), ['mos_ethnicity']),\n",
    "    ('std_mos', StdScalerByGroup(), ['fado_type', 'mos_age_incident'])\n",
    "])"
   ]
  },
  {
   "cell_type": "markdown",
   "metadata": {},
   "source": [
    "As previously mentioned, the feature columns and classifier will not be changed from the baseline model because we want to control as many variables as possible. The only difference will be the engineered columns and the optimized parameters we select for the classifier by conducting a GridSearch Cross Validation."
   ]
  },
  {
   "cell_type": "code",
   "execution_count": 24,
   "metadata": {},
   "outputs": [],
   "source": [
    "# Full pipeline with the transforms for the columns and the classifier\n",
    "pipe = Pipeline(\n",
    "    steps=[('feature_eng', feature_eng_pipeline),\n",
    "           ('classifier', DecisionTreeClassifier())])"
   ]
  },
  {
   "cell_type": "code",
   "execution_count": 25,
   "metadata": {},
   "outputs": [],
   "source": [
    "X = complaints[feature_cols]  # DataFrame\n",
    "y = complaints['is_charged'] # Series\n",
    "\n",
    "# Create 70/30 split for training sets (_tr) and test sets (_ts)\n",
    "X_tr, X_ts, y_tr, y_ts = train_test_split(X,y, test_size=0.30)"
   ]
  },
  {
   "cell_type": "markdown",
   "metadata": {},
   "source": [
    "We will first fit the classifier on the default classifier and then conduct a GridSearchCV to find the optimal parameters."
   ]
  },
  {
   "cell_type": "code",
   "execution_count": 26,
   "metadata": {},
   "outputs": [],
   "source": [
    "# Fit the pipeline on the training sets\n",
    "pipe.fit(X_tr, y_tr);"
   ]
  },
  {
   "cell_type": "code",
   "execution_count": 27,
   "metadata": {},
   "outputs": [
    {
     "data": {
      "text/plain": [
       "array([False, False, False, ...,  True, False,  True])"
      ]
     },
     "execution_count": 27,
     "metadata": {},
     "output_type": "execute_result"
    }
   ],
   "source": [
    "# Form predictions on the test set\n",
    "preds = pipe.predict(X_ts)\n",
    "preds"
   ]
  },
  {
   "cell_type": "code",
   "execution_count": 28,
   "metadata": {},
   "outputs": [
    {
     "data": {
      "text/plain": [
       "0.39588377723970947"
      ]
     },
     "execution_count": 28,
     "metadata": {},
     "output_type": "execute_result"
    }
   ],
   "source": [
    "# Calculate recall (TPR): ratio of correctly identified positives over the total actual positives\n",
    "metrics.recall_score(y_ts, preds) "
   ]
  },
  {
   "cell_type": "code",
   "execution_count": 29,
   "metadata": {},
   "outputs": [
    {
     "data": {
      "text/plain": [
       "0.43971313312415955"
      ]
     },
     "execution_count": 29,
     "metadata": {},
     "output_type": "execute_result"
    }
   ],
   "source": [
    "# Calculate precision (PPV): ratio of correctly identified positives over the total predicted positives\n",
    "metrics.precision_score(y_ts, preds)"
   ]
  },
  {
   "cell_type": "code",
   "execution_count": 30,
   "metadata": {},
   "outputs": [
    {
     "data": {
      "text/plain": [
       "0.41664897005733703"
      ]
     },
     "execution_count": 30,
     "metadata": {},
     "output_type": "execute_result"
    }
   ],
   "source": [
    "# Calculates F1 score: harmonic mean of recall and precision\n",
    "metrics.f1_score(y_ts, preds)"
   ]
  },
  {
   "cell_type": "markdown",
   "metadata": {},
   "source": [
    "We will now use GridSearchCV to find the optimal parameters for the DecisionTreeClassifier. Once we find the optimal classifier, we will use that to predict whether a MOS was charged or not."
   ]
  },
  {
   "cell_type": "code",
   "execution_count": 31,
   "metadata": {},
   "outputs": [],
   "source": [
    "# Choice of parameters in the classifier to be optimized in GridSearchCV\n",
    "parameters = {\n",
    "    'classifier__max_depth': [2,3,4,5,7,10,13, None], \n",
    "    'classifier__min_samples_split':[2,3,5,7,10],\n",
    "    'classifier__min_samples_leaf':[2,3,5,7,10]\n",
    "}"
   ]
  },
  {
   "cell_type": "code",
   "execution_count": 32,
   "metadata": {},
   "outputs": [],
   "source": [
    "# Initializes GridSearchCV object for the pipeline, specified parameters, 5 folds, and F1 metric\n",
    "clf = GridSearchCV(pipe, param_grid = parameters, cv = 5, scoring = 'f1')"
   ]
  },
  {
   "cell_type": "code",
   "execution_count": 33,
   "metadata": {},
   "outputs": [],
   "source": [
    "# Fit the classifier on the training sets\n",
    "clf.fit(X_tr, y_tr);"
   ]
  },
  {
   "cell_type": "code",
   "execution_count": 34,
   "metadata": {},
   "outputs": [
    {
     "data": {
      "text/plain": [
       "{'classifier__max_depth': None,\n",
       " 'classifier__min_samples_leaf': 3,\n",
       " 'classifier__min_samples_split': 3}"
      ]
     },
     "execution_count": 34,
     "metadata": {},
     "output_type": "execute_result"
    }
   ],
   "source": [
    "clf.best_params_"
   ]
  },
  {
   "cell_type": "code",
   "execution_count": 35,
   "metadata": {},
   "outputs": [
    {
     "data": {
      "text/plain": [
       "0.41012909632572"
      ]
     },
     "execution_count": 35,
     "metadata": {},
     "output_type": "execute_result"
    }
   ],
   "source": [
    "# Calculate recall (TPR): ratio of correctly identified positives over the total actual positives\n",
    "metrics.recall_score(clf.best_estimator_.predict(X_ts), y_ts)"
   ]
  },
  {
   "cell_type": "code",
   "execution_count": 36,
   "metadata": {},
   "outputs": [
    {
     "data": {
      "text/plain": [
       "0.3333333333333333"
      ]
     },
     "execution_count": 36,
     "metadata": {},
     "output_type": "execute_result"
    }
   ],
   "source": [
    "# Calculate precision (PPV): ratio of correctly identified positives over the total predicted positives\n",
    "metrics.precision_score(clf.best_estimator_.predict(X_ts), y_ts)#.sum()"
   ]
  },
  {
   "cell_type": "code",
   "execution_count": 37,
   "metadata": {},
   "outputs": [
    {
     "data": {
      "text/plain": [
       "0.3677649154051647"
      ]
     },
     "execution_count": 37,
     "metadata": {},
     "output_type": "execute_result"
    }
   ],
   "source": [
    "# Calculates F1 score: harmonic mean of recall and precision\n",
    "clf.score(X_ts, y_ts)"
   ]
  },
  {
   "cell_type": "code",
   "execution_count": 38,
   "metadata": {},
   "outputs": [
    {
     "data": {
      "text/plain": [
       "0.35838859667981054"
      ]
     },
     "execution_count": 38,
     "metadata": {},
     "output_type": "execute_result"
    }
   ],
   "source": [
    "# Calculates the average F1 score of the CV folds for the best combination of paramets\n",
    "clf.best_score_"
   ]
  },
  {
   "cell_type": "markdown",
   "metadata": {},
   "source": [
    "The average F1-score of the cross-validation folds was significantly worse in the model with engineered features than compared to the baseline model. The reason the F1-score was so low, around 0.3584, was due to the precision. This means out of all of the MOS that the algorithm classified as 'charged', only around 33.3% were correctly identified. This can have bad consequences because this algorithm may classify officers as guilty if they may not be guilty.\n",
    "\n",
    "The DecisionTreeClassifier fell short because it does not generalize well. The higher performance in the baseline model may have been due to overfitting the data, but the variance was too high, indicating a weaker performance on previously unseen data. A RandomForestClassifier may have been a stronger choice for an algorithm for its generalization."
   ]
  },
  {
   "cell_type": "markdown",
   "metadata": {},
   "source": [
    "### Fairness Evaluation"
   ]
  },
  {
   "cell_type": "markdown",
   "metadata": {},
   "source": [
    "We will be evaluating the fairness of our algorithm using the True Positive Parity measure. We want to explore whether the model is more fair for non-black complainants than black complainants. More specifically, since we define fairness to be the TPR, or recall, we will see whether the algorithm correctly charges a higher proportion of guilty officers when the complainant is non-black than when the complainant is black. We have split the dataset into subsets: a black subset and a non-black subset.\n",
    "\n",
    "* Null Hypothesis: The true positive rate for the complaints with black complainants and non-black complainants is roughly the same, indicating that the model is fair.\n",
    "* Alternative Hypothesis: The model poses unjust circumstances for black people by having a lower true positive rate for charging guilty officers than when the complainant is non-black.\n",
    "\n",
    "We will be conducting the permutation test at a significance level of 0.05."
   ]
  },
  {
   "cell_type": "code",
   "execution_count": 39,
   "metadata": {},
   "outputs": [],
   "source": [
    "# Sets the results dataframe to the test set observations\n",
    "results = X_ts"
   ]
  },
  {
   "cell_type": "code",
   "execution_count": 40,
   "metadata": {},
   "outputs": [
    {
     "data": {
      "text/plain": [
       "array([False, False, False, ...,  True, False, False])"
      ]
     },
     "execution_count": 40,
     "metadata": {},
     "output_type": "execute_result"
    }
   ],
   "source": [
    "# Uses the optimal classifier from the GridSearchCV to make predictions from the test set \n",
    "preds = clf.predict(X_ts)\n",
    "preds"
   ]
  },
  {
   "cell_type": "code",
   "execution_count": 41,
   "metadata": {},
   "outputs": [],
   "source": [
    "# Groups the observed complainants in the results dataset into black or non-black\n",
    "is_black = (results['complainant_ethnicity'] == 'Black')"
   ]
  },
  {
   "cell_type": "code",
   "execution_count": 42,
   "metadata": {},
   "outputs": [],
   "source": [
    "# Creates three new columns in the results DataFrame: boolean column for the group, predictions, and true tags\n",
    "results = results.assign(is_black = is_black, prediction = preds, tag = y_ts)"
   ]
  },
  {
   "cell_type": "code",
   "execution_count": 43,
   "metadata": {},
   "outputs": [
    {
     "data": {
      "text/html": [
       "<div>\n",
       "<style scoped>\n",
       "    .dataframe tbody tr th:only-of-type {\n",
       "        vertical-align: middle;\n",
       "    }\n",
       "\n",
       "    .dataframe tbody tr th {\n",
       "        vertical-align: top;\n",
       "    }\n",
       "\n",
       "    .dataframe thead th {\n",
       "        text-align: right;\n",
       "    }\n",
       "</style>\n",
       "<table border=\"1\" class=\"dataframe\">\n",
       "  <thead>\n",
       "    <tr style=\"text-align: right;\">\n",
       "      <th></th>\n",
       "      <th>month_received</th>\n",
       "      <th>year_received</th>\n",
       "      <th>month_closed</th>\n",
       "      <th>year_closed</th>\n",
       "      <th>rank_now</th>\n",
       "      <th>rank_incident</th>\n",
       "      <th>complainant_ethnicity</th>\n",
       "      <th>mos_ethnicity</th>\n",
       "      <th>fado_type</th>\n",
       "      <th>complainant_gender</th>\n",
       "      <th>complainant_age_incident</th>\n",
       "      <th>mos_age_incident</th>\n",
       "      <th>is_black</th>\n",
       "      <th>prediction</th>\n",
       "      <th>tag</th>\n",
       "    </tr>\n",
       "  </thead>\n",
       "  <tbody>\n",
       "    <tr>\n",
       "      <td>3411</td>\n",
       "      <td>4</td>\n",
       "      <td>2009</td>\n",
       "      <td>1</td>\n",
       "      <td>2011</td>\n",
       "      <td>Police Officer</td>\n",
       "      <td>Police Officer</td>\n",
       "      <td>Unknown</td>\n",
       "      <td>White</td>\n",
       "      <td>Force</td>\n",
       "      <td>Male</td>\n",
       "      <td>41.0</td>\n",
       "      <td>33</td>\n",
       "      <td>False</td>\n",
       "      <td>False</td>\n",
       "      <td>False</td>\n",
       "    </tr>\n",
       "    <tr>\n",
       "      <td>2606</td>\n",
       "      <td>10</td>\n",
       "      <td>2003</td>\n",
       "      <td>5</td>\n",
       "      <td>2005</td>\n",
       "      <td>Detective</td>\n",
       "      <td>Police Officer</td>\n",
       "      <td>Black</td>\n",
       "      <td>Black</td>\n",
       "      <td>Force</td>\n",
       "      <td>Male</td>\n",
       "      <td>21.0</td>\n",
       "      <td>31</td>\n",
       "      <td>True</td>\n",
       "      <td>False</td>\n",
       "      <td>False</td>\n",
       "    </tr>\n",
       "    <tr>\n",
       "      <td>6831</td>\n",
       "      <td>8</td>\n",
       "      <td>2006</td>\n",
       "      <td>11</td>\n",
       "      <td>2007</td>\n",
       "      <td>Lieutenant</td>\n",
       "      <td>Lieutenant</td>\n",
       "      <td>Black</td>\n",
       "      <td>White</td>\n",
       "      <td>Discourtesy</td>\n",
       "      <td>Female</td>\n",
       "      <td>42.0</td>\n",
       "      <td>40</td>\n",
       "      <td>True</td>\n",
       "      <td>False</td>\n",
       "      <td>False</td>\n",
       "    </tr>\n",
       "    <tr>\n",
       "      <td>10693</td>\n",
       "      <td>8</td>\n",
       "      <td>2015</td>\n",
       "      <td>2</td>\n",
       "      <td>2016</td>\n",
       "      <td>Lieutenant</td>\n",
       "      <td>Lieutenant</td>\n",
       "      <td>NaN</td>\n",
       "      <td>White</td>\n",
       "      <td>Abuse of Authority</td>\n",
       "      <td>NaN</td>\n",
       "      <td>NaN</td>\n",
       "      <td>52</td>\n",
       "      <td>False</td>\n",
       "      <td>True</td>\n",
       "      <td>False</td>\n",
       "    </tr>\n",
       "    <tr>\n",
       "      <td>25838</td>\n",
       "      <td>12</td>\n",
       "      <td>2011</td>\n",
       "      <td>8</td>\n",
       "      <td>2012</td>\n",
       "      <td>Detective</td>\n",
       "      <td>Police Officer</td>\n",
       "      <td>Asian</td>\n",
       "      <td>White</td>\n",
       "      <td>Discourtesy</td>\n",
       "      <td>Male</td>\n",
       "      <td>26.0</td>\n",
       "      <td>28</td>\n",
       "      <td>False</td>\n",
       "      <td>False</td>\n",
       "      <td>False</td>\n",
       "    </tr>\n",
       "  </tbody>\n",
       "</table>\n",
       "</div>"
      ],
      "text/plain": [
       "       month_received  year_received  month_closed  year_closed  \\\n",
       "3411                4           2009             1         2011   \n",
       "2606               10           2003             5         2005   \n",
       "6831                8           2006            11         2007   \n",
       "10693               8           2015             2         2016   \n",
       "25838              12           2011             8         2012   \n",
       "\n",
       "             rank_now   rank_incident complainant_ethnicity mos_ethnicity  \\\n",
       "3411   Police Officer  Police Officer               Unknown         White   \n",
       "2606        Detective  Police Officer                 Black         Black   \n",
       "6831       Lieutenant      Lieutenant                 Black         White   \n",
       "10693      Lieutenant      Lieutenant                   NaN         White   \n",
       "25838       Detective  Police Officer                 Asian         White   \n",
       "\n",
       "                fado_type complainant_gender  complainant_age_incident  \\\n",
       "3411                Force               Male                      41.0   \n",
       "2606                Force               Male                      21.0   \n",
       "6831          Discourtesy             Female                      42.0   \n",
       "10693  Abuse of Authority                NaN                       NaN   \n",
       "25838         Discourtesy               Male                      26.0   \n",
       "\n",
       "       mos_age_incident  is_black  prediction    tag  \n",
       "3411                 33     False       False  False  \n",
       "2606                 31      True       False  False  \n",
       "6831                 40      True       False  False  \n",
       "10693                52     False        True  False  \n",
       "25838                28     False       False  False  "
      ]
     },
     "execution_count": 43,
     "metadata": {},
     "output_type": "execute_result"
    }
   ],
   "source": [
    "results.head()"
   ]
  },
  {
   "cell_type": "code",
   "execution_count": 44,
   "metadata": {},
   "outputs": [],
   "source": [
    "# Calculates the observed recall (TPR) for the black and non-black groups from the algorithm\n",
    "obs = results.groupby('is_black').apply(lambda x: metrics.recall_score(preds, y_ts)).diff().iloc[-1]\n",
    "\n",
    "# List for holding the difference of TPR for the 1000 trials\n",
    "metrs = []\n",
    "\n",
    "# Permutation test for true positive parity\n",
    "for _ in range(1000):\n",
    "    # Permutes the is_black labels and finds the empirical difference of TPR for the black and non-black groups\n",
    "    s = (\n",
    "        results[['is_black', 'prediction', 'tag']]\n",
    "        .assign(is_black = results.is_black.sample(frac=1.0, replace=False).reset_index(drop=True))\n",
    "        .groupby('is_black')\n",
    "        .apply(lambda x: metrics.recall_score(x.tag, x.prediction))\n",
    "        .diff()\n",
    "        .iloc[-1]\n",
    "    )\n",
    "    \n",
    "    # Adds the empirical difference to the list storing all the differences\n",
    "    metrs.append(s)"
   ]
  },
  {
   "cell_type": "code",
   "execution_count": 45,
   "metadata": {},
   "outputs": [
    {
     "name": "stdout",
     "output_type": "stream",
     "text": [
      "0.506\n"
     ]
    },
    {
     "data": {
      "image/png": "[encoded data removed]",
      "text/plain": [
       "<Figure size 432x288 with 1 Axes>"
      ]
     },
     "metadata": {
      "image/png": {
       "height": 263,
       "width": 410
      },
      "needs_background": "light"
     },
     "output_type": "display_data"
    }
   ],
   "source": [
    "# p-value is the proportion of observed differences between TPR of black and non-black (in that order)\n",
    "# that were equal or more extreme (less) than the observed difference\n",
    "p_val = (pd.Series(metrs <= obs).mean())\n",
    "print(p_val)\n",
    "\n",
    "# Plots the observed difference as a red dot and the empirical differences as a histogram\n",
    "pd.Series(metrs).plot(kind='hist', title='Permutation Test for loan scores across black/non-black groups')\n",
    "plt.scatter(obs, 0.25, c='r', zorder = 2);"
   ]
  },
  {
   "cell_type": "markdown",
   "metadata": {},
   "source": [
    "The p-value of 0.506 indicates that under the null hypothesis, around 50% of the observed differences in TPR were at least as extreme as the observed difference. Since the p-value is higher than the significance level of 0.05, we fail to reject the null hypothesis and do not have evidence to conclude that the algorithm poses unjust circumstances to black complainants."
   ]
  },
  {
   "cell_type": "code",
   "execution_count": null,
   "metadata": {},
   "outputs": [],
   "source": []
  }
 ],
 "metadata": {
  "kernelspec": {
   "display_name": "Python 3",
   "language": "python",
   "name": "python3"
  },
  "language_info": {
   "codemirror_mode": {
    "name": "ipython",
    "version": 3
   },
   "file_extension": ".py",
   "mimetype": "text/x-python",
   "name": "python",
   "nbconvert_exporter": "python",
   "pygments_lexer": "ipython3",
   "version": "3.7.4"
  }
 },
 "nbformat": 4,
 "nbformat_minor": 2
}
